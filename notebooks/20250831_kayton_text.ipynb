{
 "cells": [
  {
   "cell_type": "code",
   "execution_count": 1,
   "id": "068fbaee-f3ab-4dc4-be67-7d23489082ee",
   "metadata": {},
   "outputs": [
    {
     "data": {
      "text/plain": [
       "a = 1\n",
       "b = 2\n",
       "z = 3"
      ]
     },
     "execution_count": 1,
     "metadata": {},
     "output_type": "execute_result"
    }
   ],
   "source": [
    "fn my(a,b):\n",
    "    a+b\n",
    "a=1\n",
    "b=2\n",
    "z = my(a,b)\n",
    "print(z)\n"
   ]
  },
  {
   "cell_type": "code",
   "execution_count": null,
   "id": "6a961676-163b-4368-bead-fee89e24b885",
   "metadata": {},
   "outputs": [],
   "source": []
  },
  {
   "cell_type": "code",
   "execution_count": null,
   "id": "7ac003b5-43fd-4a17-be5f-04e53515486d",
   "metadata": {},
   "outputs": [],
   "source": []
  }
 ],
 "metadata": {
  "kernelspec": {
   "display_name": "Kayton",
   "language": "kayton",
   "name": "kayton"
  },
  "language_info": {
   "file_extension": ".kay",
   "mimetype": "text/plain",
   "name": "kayton",
   "version": "0.1.0"
  }
 },
 "nbformat": 4,
 "nbformat_minor": 5
}
